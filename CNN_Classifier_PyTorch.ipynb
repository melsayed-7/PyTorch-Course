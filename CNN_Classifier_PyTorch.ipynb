{
  "nbformat": 4,
  "nbformat_minor": 0,
  "metadata": {
    "colab": {
      "name": "CNN-Classifier_PyTorch.ipynb",
      "version": "0.3.2",
      "provenance": [],
      "include_colab_link": true
    },
    "kernelspec": {
      "name": "python3",
      "display_name": "Python 3"
    },
    "accelerator": "GPU"
  },
  "cells": [
    {
      "cell_type": "markdown",
      "metadata": {
        "id": "view-in-github",
        "colab_type": "text"
      },
      "source": [
        "<a href=\"https://colab.research.google.com/github/moustafa-7/PyTorch-Course/blob/master/CNN_Classifier_PyTorch.ipynb\" target=\"_parent\"><img src=\"https://colab.research.google.com/assets/colab-badge.svg\" alt=\"Open In Colab\"/></a>"
      ]
    },
    {
      "cell_type": "code",
      "metadata": {
        "id": "b8BPO2m2du6r",
        "colab_type": "code",
        "colab": {}
      },
      "source": [
        "import torch\n",
        "import torchvision.datasets as dsets\n",
        "import torchvision.transforms as transforms\n",
        "import torch.nn as nn\n",
        "from torch.autograd import Variable"
      ],
      "execution_count": 0,
      "outputs": []
    },
    {
      "cell_type": "code",
      "metadata": {
        "id": "cJtdqMcaePA0",
        "colab_type": "code",
        "colab": {}
      },
      "source": [
        "train_dset = dsets.MNIST('./root', train = True,\n",
        "                        download = True, transform = transforms.ToTensor())\n",
        "\n",
        "\n",
        "test_dset = dsets.MNIST('./root', train = False,\n",
        "                        download = True, transform = transforms.ToTensor())"
      ],
      "execution_count": 0,
      "outputs": []
    },
    {
      "cell_type": "code",
      "metadata": {
        "id": "FU21RRdJfoez",
        "colab_type": "code",
        "colab": {
          "base_uri": "https://localhost:8080/",
          "height": 34
        },
        "outputId": "6671e978-98ac-4798-baff-c249caed4977"
      },
      "source": [
        "len(train_dset)"
      ],
      "execution_count": 13,
      "outputs": [
        {
          "output_type": "execute_result",
          "data": {
            "text/plain": [
              "60000"
            ]
          },
          "metadata": {
            "tags": []
          },
          "execution_count": 13
        }
      ]
    },
    {
      "cell_type": "code",
      "metadata": {
        "id": "u9s4FyvUjMwh",
        "colab_type": "code",
        "colab": {
          "base_uri": "https://localhost:8080/",
          "height": 34
        },
        "outputId": "aed9ddaa-6082-4652-bccf-3d45b75adbe5"
      },
      "source": [
        "batch_size = 100\n",
        "n_iters = 3000\n",
        "epochs = n_iters / (len(train_dset) / batch_size)\n",
        "epochs = int(epochs)\n",
        "epochs"
      ],
      "execution_count": 16,
      "outputs": [
        {
          "output_type": "execute_result",
          "data": {
            "text/plain": [
              "5"
            ]
          },
          "metadata": {
            "tags": []
          },
          "execution_count": 16
        }
      ]
    },
    {
      "cell_type": "code",
      "metadata": {
        "id": "xIQeZ2vZf4gH",
        "colab_type": "code",
        "colab": {}
      },
      "source": [
        "train_loader = torch.utils.data.DataLoader(dataset = train_dset,\n",
        "                                           shuffle = True,\n",
        "                                           batch_size = batch_size)\n",
        "\n",
        "test_loader = torch.utils.data.DataLoader(dataset = test_dset,\n",
        "                                          shuffle = True,\n",
        "                                          batch_size = batch_size)"
      ],
      "execution_count": 0,
      "outputs": []
    },
    {
      "cell_type": "code",
      "metadata": {
        "id": "wnltA11cnnj0",
        "colab_type": "code",
        "colab": {}
      },
      "source": [
        "class cnn_model(nn.Module):\n",
        "  def __init__(self):\n",
        "    super(cnn_model, self).__init__()\n",
        "    \n",
        "    self.cnn1 = nn.Conv2d(in_channels = 1, out_channels = 16, kernel_size = 5, stride = 1, padding= 2)\n",
        "    self.relu1 = nn.ReLU()\n",
        "    \n",
        "    self.pool1 = nn.AvgPool2d(kernel_size = 2)\n",
        "    \n",
        "    self.cnn2 = nn.Conv2d(in_channels = 16, out_channels = 32, kernel_size = 5, stride = 1, padding = 2)\n",
        "    self.relu2 = nn.ReLU()\n",
        "    \n",
        "    self.pool2 = nn.AvgPool2d(kernel_size = 2)\n",
        "    \n",
        "    self.linear = nn.Linear(32*7*7, 10)\n",
        "    \n",
        "    \n",
        "    \n",
        "  def forward(self, x):\n",
        "    out = self.cnn1(x)\n",
        "    out = self.relu1(out)\n",
        "    out = self.pool1(out)\n",
        "    out = self.cnn2(out)\n",
        "    out = self.relu2(out)\n",
        "    out = self.pool2(out)\n",
        "    \n",
        "    out = self.linear(out.view(out.size(0),-1))\n",
        "    \n",
        "    return out\n",
        "    \n",
        "    \n",
        "    "
      ],
      "execution_count": 0,
      "outputs": []
    },
    {
      "cell_type": "code",
      "metadata": {
        "id": "XHWJuRvav6XH",
        "colab_type": "code",
        "colab": {}
      },
      "source": [
        "model = cnn_model()"
      ],
      "execution_count": 0,
      "outputs": []
    },
    {
      "cell_type": "code",
      "metadata": {
        "id": "DW-KUMG4wfX_",
        "colab_type": "code",
        "colab": {}
      },
      "source": [
        "criterion = nn.CrossEntropyLoss()"
      ],
      "execution_count": 0,
      "outputs": []
    },
    {
      "cell_type": "code",
      "metadata": {
        "id": "QExzVHPfwipc",
        "colab_type": "code",
        "colab": {}
      },
      "source": [
        "lr = 0.01\n",
        "optimizer = torch.optim.SGD(model.parameters(), lr = lr)"
      ],
      "execution_count": 0,
      "outputs": []
    },
    {
      "cell_type": "code",
      "metadata": {
        "id": "BHFMiQkXxDrU",
        "colab_type": "code",
        "colab": {
          "base_uri": "https://localhost:8080/",
          "height": 119
        },
        "outputId": "c757f589-8414-4596-9782-a0ea4d3585f4"
      },
      "source": [
        "iter = 0\n",
        "#model.cuda()\n",
        "for epoch in range(epochs):\n",
        "  for i ,(images, labels) in enumerate(train_loader):\n",
        "    iter +=1\n",
        "    images = Variable(images)#.cuda()\n",
        "    lables = Variable(labels)#.cuda()\n",
        "    \n",
        "    optimizer.zero_grad()\n",
        "    \n",
        "    outputs = model(images)\n",
        "    \n",
        "    loss = criterion(outputs , labels)\n",
        "    \n",
        "    loss.backward()\n",
        "    \n",
        "    optimizer.step()\n",
        "    \n",
        "    if(iter % 500 == 0):\n",
        "      correct = 0\n",
        "      total = 0 \n",
        "       \n",
        "      for images, labels in test_loader:\n",
        "        outputs = model(images)#.cuda())\n",
        "        _, predicted = torch.max(outputs.data,1)\n",
        "        \n",
        "        total += labels.size(0)\n",
        "        \n",
        "        correct += (predicted == labels).sum()\n",
        "        \n",
        "      \n",
        "      accuracy = 100 * correct / total\n",
        "      print('Iter: {}. Loss: {}. Accuracy: {}'.format(iter, loss.data, accuracy))\n",
        "      \n",
        "      \n",
        "        \n",
        "        \n",
        "    "
      ],
      "execution_count": 76,
      "outputs": [
        {
          "output_type": "stream",
          "text": [
            "Iter: 500. Loss: 0.38749825954437256. Accuracy: 86\n",
            "Iter: 1000. Loss: 0.3532331585884094. Accuracy: 89\n",
            "Iter: 1500. Loss: 0.3872205317020416. Accuracy: 90\n",
            "Iter: 2000. Loss: 0.4164877235889435. Accuracy: 91\n",
            "Iter: 2500. Loss: 0.29837581515312195. Accuracy: 92\n",
            "Iter: 3000. Loss: 0.2273980677127838. Accuracy: 92\n"
          ],
          "name": "stdout"
        }
      ]
    },
    {
      "cell_type": "code",
      "metadata": {
        "id": "hzkf9l5cz06J",
        "colab_type": "code",
        "colab": {}
      },
      "source": [
        ""
      ],
      "execution_count": 0,
      "outputs": []
    }
  ]
}